{
  "nbformat": 4,
  "nbformat_minor": 0,
  "metadata": {
    "kernelspec": {
      "display_name": "Python 3",
      "language": "python",
      "name": "python3"
    },
    "language_info": {
      "codemirror_mode": {
        "name": "ipython",
        "version": 3
      },
      "file_extension": ".py",
      "mimetype": "text/x-python",
      "name": "python",
      "nbconvert_exporter": "python",
      "pygments_lexer": "ipython3",
      "version": "3.7.3"
    },
    "colab": {
      "name": "Patient_detection.ipynb",
      "provenance": [],
      "include_colab_link": true
    }
  },
  "cells": [
    {
      "cell_type": "markdown",
      "metadata": {
        "id": "view-in-github",
        "colab_type": "text"
      },
      "source": [
        "<a href=\"https://colab.research.google.com/github/sr4rish/Patient-Comment-Detector/blob/master/Patient_detection.ipynb\" target=\"_parent\"><img src=\"https://colab.research.google.com/assets/colab-badge.svg\" alt=\"Open In Colab\"/></a>"
      ]
    },
    {
      "cell_type": "code",
      "metadata": {
        "id": "NeoF2SvTMgK-",
        "colab_type": "code",
        "colab": {}
      },
      "source": [
        "#importing the libraries\n",
        "import pandas as pd\n",
        "import numpy as np\n",
        "import re\n",
        "import nltk\n",
        "from sklearn.feature_extraction.text import CountVectorizer\n",
        "from sklearn.model_selection import GridSearchCV\n",
        "from xgboost.sklearn import XGBClassifier\n",
        "from sklearn.model_selection import cross_val_score"
      ],
      "execution_count": 21,
      "outputs": []
    },
    {
      "cell_type": "code",
      "metadata": {
        "id": "tMxqTKbGP7SI",
        "colab_type": "code",
        "colab": {
          "base_uri": "https://localhost:8080/",
          "height": 125
        },
        "outputId": "a7443594-67df-42a6-c4b8-50b2647692b1"
      },
      "source": [
        "from google.colab import drive\n",
        "drive.mount('/content/drive')"
      ],
      "execution_count": 1,
      "outputs": [
        {
          "output_type": "stream",
          "text": [
            "Go to this URL in a browser: https://accounts.google.com/o/oauth2/auth?client_id=947318989803-6bn6qk8qdgf4n4g3pfee6491hc0brc4i.apps.googleusercontent.com&redirect_uri=urn%3aietf%3awg%3aoauth%3a2.0%3aoob&response_type=code&scope=email%20https%3a%2f%2fwww.googleapis.com%2fauth%2fdocs.test%20https%3a%2f%2fwww.googleapis.com%2fauth%2fdrive%20https%3a%2f%2fwww.googleapis.com%2fauth%2fdrive.photos.readonly%20https%3a%2f%2fwww.googleapis.com%2fauth%2fpeopleapi.readonly\n",
            "\n",
            "Enter your authorization code:\n",
            "··········\n",
            "Mounted at /content/drive\n"
          ],
          "name": "stdout"
        }
      ]
    },
    {
      "cell_type": "code",
      "metadata": {
        "id": "VLqdjSIRMgLI",
        "colab_type": "code",
        "colab": {
          "base_uri": "https://localhost:8080/",
          "height": 70
        },
        "outputId": "161fc124-9491-4f7a-ce83-0af0d582f846"
      },
      "source": [
        "#importing NLP libraries\n",
        "from nltk.corpus import stopwords\n",
        "from nltk.stem.porter import PorterStemmer\n",
        "ps = PorterStemmer()\n",
        "import nltk\n",
        "nltk.download('stopwords')"
      ],
      "execution_count": 22,
      "outputs": [
        {
          "output_type": "stream",
          "text": [
            "[nltk_data] Downloading package stopwords to /root/nltk_data...\n",
            "[nltk_data]   Package stopwords is already up-to-date!\n"
          ],
          "name": "stdout"
        },
        {
          "output_type": "execute_result",
          "data": {
            "text/plain": [
              "True"
            ]
          },
          "metadata": {
            "tags": []
          },
          "execution_count": 22
        }
      ]
    },
    {
      "cell_type": "code",
      "metadata": {
        "id": "a-TIo3MbMgLT",
        "colab_type": "code",
        "colab": {}
      },
      "source": [
        "#importing training dataset\n",
        "import csv\n",
        "\n",
        "with open('/content/drive/My Drive/Patient Comment Detection/train.csv',encoding=\"ISO-8859-1\") as f:\n",
        "  reader = csv.reader(f)\n",
        "  data_list = list(reader)"
      ],
      "execution_count": 23,
      "outputs": []
    },
    {
      "cell_type": "code",
      "metadata": {
        "id": "f00SGCv1MgLj",
        "colab_type": "code",
        "colab": {}
      },
      "source": [
        "#importing test dataset\n",
        "with open('/content/drive/My Drive/Patient Comment Detection/test.csv',encoding=\"ISO-8859-1\") as f:\n",
        "  reader = csv.reader(f)\n",
        "  test_list = list(reader)"
      ],
      "execution_count": 24,
      "outputs": []
    },
    {
      "cell_type": "code",
      "metadata": {
        "id": "DO7m6VXEMgLt",
        "colab_type": "code",
        "colab": {
          "base_uri": "https://localhost:8080/",
          "height": 331
        },
        "outputId": "2670a112-d7e5-4350-eb89-79967616a131"
      },
      "source": [
        "data = pd.DataFrame(data_list[1:len(data_list)], columns=data_list[0])\n",
        "data.head()"
      ],
      "execution_count": 25,
      "outputs": [
        {
          "output_type": "execute_result",
          "data": {
            "text/html": [
              "<div>\n",
              "<style scoped>\n",
              "    .dataframe tbody tr th:only-of-type {\n",
              "        vertical-align: middle;\n",
              "    }\n",
              "\n",
              "    .dataframe tbody tr th {\n",
              "        vertical-align: top;\n",
              "    }\n",
              "\n",
              "    .dataframe thead th {\n",
              "        text-align: right;\n",
              "    }\n",
              "</style>\n",
              "<table border=\"1\" class=\"dataframe\">\n",
              "  <thead>\n",
              "    <tr style=\"text-align: right;\">\n",
              "      <th></th>\n",
              "      <th>Source</th>\n",
              "      <th>Host</th>\n",
              "      <th>Link</th>\n",
              "      <th>Date(ET)</th>\n",
              "      <th>Time(ET)</th>\n",
              "      <th>time(GMT)</th>\n",
              "      <th>Title</th>\n",
              "      <th>TRANS_CONV_TEXT</th>\n",
              "      <th>Patient_Tag</th>\n",
              "    </tr>\n",
              "  </thead>\n",
              "  <tbody>\n",
              "    <tr>\n",
              "      <th>0</th>\n",
              "      <td>FORUMS</td>\n",
              "      <td>cafepharma.com</td>\n",
              "      <td>http://cafepharma.com/boards/threads/epstein.5...</td>\n",
              "      <td>6/15/2016</td>\n",
              "      <td>13:58:00</td>\n",
              "      <td>6/15/2016 23:28</td>\n",
              "      <td>Epstein</td>\n",
              "      <td>I don't disagree with you in principle. I'm ju...</td>\n",
              "      <td>0</td>\n",
              "    </tr>\n",
              "    <tr>\n",
              "      <th>1</th>\n",
              "      <td>FORUMS</td>\n",
              "      <td>www.patient.co.uk</td>\n",
              "      <td>http://www.patient.co.uk/forums/discuss/enlarg...</td>\n",
              "      <td>5/7/2016</td>\n",
              "      <td>0.820833333</td>\n",
              "      <td>42498.21667</td>\n",
              "      <td>Enlarged Heart.Thread Enlarged Heart</td>\n",
              "      <td>I am always dizzy I get dizzy standing up so I...</td>\n",
              "      <td>1</td>\n",
              "    </tr>\n",
              "    <tr>\n",
              "      <th>2</th>\n",
              "      <td>BLOG</td>\n",
              "      <td>http://abcnewsradioonline.com/entertainment-news</td>\n",
              "      <td>http://abcnewsradioonline.com/entertainment-ne...</td>\n",
              "      <td>4/14/2016</td>\n",
              "      <td>15:00:38</td>\n",
              "      <td>4/15/2016 0:30</td>\n",
              "      <td>Queen Latifah Joins American Heart Association...</td>\n",
              "      <td>Axelle/Bauer-Griffin/FilmMagic(NEW YORK) -- Qu...</td>\n",
              "      <td>0</td>\n",
              "    </tr>\n",
              "    <tr>\n",
              "      <th>3</th>\n",
              "      <td>FORUMS</td>\n",
              "      <td>www.cancer-forums.net</td>\n",
              "      <td>http://www.cancer-forums.net/viewtopic.php?f=1...</td>\n",
              "      <td>6/18/2016</td>\n",
              "      <td>20:46:00</td>\n",
              "      <td>6/19/2016 6:16</td>\n",
              "      <td>Bulaemia</td>\n",
              "      <td>I am 17 and I have been throwing up for about ...</td>\n",
              "      <td>1</td>\n",
              "    </tr>\n",
              "    <tr>\n",
              "      <th>4</th>\n",
              "      <td>FORUMS</td>\n",
              "      <td>www.diyaudio.com</td>\n",
              "      <td>http://www.diyaudio.com/forums/lounge/292252-d...</td>\n",
              "      <td>6/15/2016</td>\n",
              "      <td>3:26:00</td>\n",
              "      <td>6/15/2016 12:56</td>\n",
              "      <td>DIY Silver interconnects and RCAs???</td>\n",
              "      <td>Quote: Originally Posted by Boyan Silyavski Wa...</td>\n",
              "      <td>0</td>\n",
              "    </tr>\n",
              "  </tbody>\n",
              "</table>\n",
              "</div>"
            ],
            "text/plain": [
              "   Source  ... Patient_Tag\n",
              "0  FORUMS  ...           0\n",
              "1  FORUMS  ...           1\n",
              "2    BLOG  ...           0\n",
              "3  FORUMS  ...           1\n",
              "4  FORUMS  ...           0\n",
              "\n",
              "[5 rows x 9 columns]"
            ]
          },
          "metadata": {
            "tags": []
          },
          "execution_count": 25
        }
      ]
    },
    {
      "cell_type": "code",
      "metadata": {
        "id": "URM-dY_EMgL0",
        "colab_type": "code",
        "colab": {
          "base_uri": "https://localhost:8080/",
          "height": 281
        },
        "outputId": "18e3a156-f17a-481f-dc61-7543144aa84b"
      },
      "source": [
        "test_data = pd.DataFrame(test_list[1:len(test_list)], columns=test_list[0])\n",
        "test_data.head()"
      ],
      "execution_count": 26,
      "outputs": [
        {
          "output_type": "execute_result",
          "data": {
            "text/html": [
              "<div>\n",
              "<style scoped>\n",
              "    .dataframe tbody tr th:only-of-type {\n",
              "        vertical-align: middle;\n",
              "    }\n",
              "\n",
              "    .dataframe tbody tr th {\n",
              "        vertical-align: top;\n",
              "    }\n",
              "\n",
              "    .dataframe thead th {\n",
              "        text-align: right;\n",
              "    }\n",
              "</style>\n",
              "<table border=\"1\" class=\"dataframe\">\n",
              "  <thead>\n",
              "    <tr style=\"text-align: right;\">\n",
              "      <th></th>\n",
              "      <th>Index</th>\n",
              "      <th>Source</th>\n",
              "      <th>Host</th>\n",
              "      <th>Link</th>\n",
              "      <th>Date(ET)</th>\n",
              "      <th>Time(ET)</th>\n",
              "      <th>time(GMT)</th>\n",
              "      <th>Title</th>\n",
              "      <th>TRANS_CONV_TEXT</th>\n",
              "      <th></th>\n",
              "    </tr>\n",
              "  </thead>\n",
              "  <tbody>\n",
              "    <tr>\n",
              "      <th>0</th>\n",
              "      <td>1</td>\n",
              "      <td>BLOG</td>\n",
              "      <td>uhmagonline.com</td>\n",
              "      <td>http://uhmagonline.com/son-of-the-late-kimbo-s...</td>\n",
              "      <td>7/30/2016</td>\n",
              "      <td>0:41:23</td>\n",
              "      <td></td>\n",
              "      <td></td>\n",
              "      <td>Baby Slice, the son of the late Kimbo Slice, h...</td>\n",
              "      <td></td>\n",
              "    </tr>\n",
              "    <tr>\n",
              "      <th>1</th>\n",
              "      <td>2</td>\n",
              "      <td>FORUMS</td>\n",
              "      <td>implantinformationnetwork.yuku.com</td>\n",
              "      <td>http://implantinformationnetwork.yuku.com/topi...</td>\n",
              "      <td>6/20/2016</td>\n",
              "      <td>0:07:30</td>\n",
              "      <td>6/20/2016 9:37</td>\n",
              "      <td>My Story --</td>\n",
              "      <td>&lt;p&gt;&lt;font face=\"sans-serif\" size=\"3\"&gt;I have had...</td>\n",
              "      <td></td>\n",
              "    </tr>\n",
              "    <tr>\n",
              "      <th>2</th>\n",
              "      <td>3</td>\n",
              "      <td>BLOG</td>\n",
              "      <td>http://cestlapharm.blogspot.com</td>\n",
              "      <td>http://cestlapharm.blogspot.com/2016/06/us-fda...</td>\n",
              "      <td>6/15/2016</td>\n",
              "      <td>15:44:00</td>\n",
              "      <td>6/16/2016 1:14</td>\n",
              "      <td>US FDA ?????canagliflozin?dapagliflozin?????????</td>\n",
              "      <td>Previously, sodium-glucose cotransporter-2 (SG...</td>\n",
              "      <td></td>\n",
              "    </tr>\n",
              "    <tr>\n",
              "      <th>3</th>\n",
              "      <td>4</td>\n",
              "      <td>FORUMS</td>\n",
              "      <td>healthboards.com</td>\n",
              "      <td>http://www.healthboards.com/boards/heart-disor...</td>\n",
              "      <td>7/17/2016</td>\n",
              "      <td>19:41:00</td>\n",
              "      <td></td>\n",
              "      <td></td>\n",
              "      <td>Hello. I suffer from congestive heart failure ...</td>\n",
              "      <td></td>\n",
              "    </tr>\n",
              "    <tr>\n",
              "      <th>4</th>\n",
              "      <td>5</td>\n",
              "      <td>BLOG</td>\n",
              "      <td>http://www.sciencecodex.com</td>\n",
              "      <td>http://www.sciencecodex.com/vitamin_d_improves...</td>\n",
              "      <td>4/4/2016</td>\n",
              "      <td>15:30:45</td>\n",
              "      <td>4/5/2016 1:00</td>\n",
              "      <td>Vitamin D improves heart function, study finds</td>\n",
              "      <td>A daily dose of vitamin D3 improves heart func...</td>\n",
              "      <td></td>\n",
              "    </tr>\n",
              "  </tbody>\n",
              "</table>\n",
              "</div>"
            ],
            "text/plain": [
              "  Index  Source  ...                                    TRANS_CONV_TEXT  \n",
              "0     1    BLOG  ...  Baby Slice, the son of the late Kimbo Slice, h...  \n",
              "1     2  FORUMS  ...  <p><font face=\"sans-serif\" size=\"3\">I have had...  \n",
              "2     3    BLOG  ...  Previously, sodium-glucose cotransporter-2 (SG...  \n",
              "3     4  FORUMS  ...  Hello. I suffer from congestive heart failure ...  \n",
              "4     5    BLOG  ...  A daily dose of vitamin D3 improves heart func...  \n",
              "\n",
              "[5 rows x 10 columns]"
            ]
          },
          "metadata": {
            "tags": []
          },
          "execution_count": 26
        }
      ]
    },
    {
      "cell_type": "code",
      "metadata": {
        "id": "DqOiaqUcMgL4",
        "colab_type": "code",
        "colab": {
          "base_uri": "https://localhost:8080/",
          "height": 301
        },
        "outputId": "f1efc60c-9bec-4e2e-8249-fdd8c557dc36"
      },
      "source": [
        "data.info()"
      ],
      "execution_count": 27,
      "outputs": [
        {
          "output_type": "stream",
          "text": [
            "<class 'pandas.core.frame.DataFrame'>\n",
            "RangeIndex: 1157 entries, 0 to 1156\n",
            "Data columns (total 9 columns):\n",
            " #   Column           Non-Null Count  Dtype \n",
            "---  ------           --------------  ----- \n",
            " 0   Source           1157 non-null   object\n",
            " 1   Host             1157 non-null   object\n",
            " 2   Link             1157 non-null   object\n",
            " 3   Date(ET)         1157 non-null   object\n",
            " 4   Time(ET)         1157 non-null   object\n",
            " 5   time(GMT)        1157 non-null   object\n",
            " 6   Title            1157 non-null   object\n",
            " 7   TRANS_CONV_TEXT  1157 non-null   object\n",
            " 8   Patient_Tag      1157 non-null   object\n",
            "dtypes: object(9)\n",
            "memory usage: 81.5+ KB\n"
          ],
          "name": "stdout"
        }
      ]
    },
    {
      "cell_type": "code",
      "metadata": {
        "id": "tfh_WnxnMgL_",
        "colab_type": "code",
        "colab": {
          "base_uri": "https://localhost:8080/",
          "height": 167
        },
        "outputId": "0b7ab4d6-000e-4dec-cced-999c525e7fe4"
      },
      "source": [
        "data.describe(include='all')"
      ],
      "execution_count": 28,
      "outputs": [
        {
          "output_type": "execute_result",
          "data": {
            "text/html": [
              "<div>\n",
              "<style scoped>\n",
              "    .dataframe tbody tr th:only-of-type {\n",
              "        vertical-align: middle;\n",
              "    }\n",
              "\n",
              "    .dataframe tbody tr th {\n",
              "        vertical-align: top;\n",
              "    }\n",
              "\n",
              "    .dataframe thead th {\n",
              "        text-align: right;\n",
              "    }\n",
              "</style>\n",
              "<table border=\"1\" class=\"dataframe\">\n",
              "  <thead>\n",
              "    <tr style=\"text-align: right;\">\n",
              "      <th></th>\n",
              "      <th>Source</th>\n",
              "      <th>Host</th>\n",
              "      <th>Link</th>\n",
              "      <th>Date(ET)</th>\n",
              "      <th>Time(ET)</th>\n",
              "      <th>time(GMT)</th>\n",
              "      <th>Title</th>\n",
              "      <th>TRANS_CONV_TEXT</th>\n",
              "      <th>Patient_Tag</th>\n",
              "    </tr>\n",
              "  </thead>\n",
              "  <tbody>\n",
              "    <tr>\n",
              "      <th>count</th>\n",
              "      <td>1157</td>\n",
              "      <td>1157</td>\n",
              "      <td>1157</td>\n",
              "      <td>1157</td>\n",
              "      <td>1157</td>\n",
              "      <td>1157</td>\n",
              "      <td>1157</td>\n",
              "      <td>1157</td>\n",
              "      <td>1157</td>\n",
              "    </tr>\n",
              "    <tr>\n",
              "      <th>unique</th>\n",
              "      <td>5</td>\n",
              "      <td>616</td>\n",
              "      <td>1152</td>\n",
              "      <td>167</td>\n",
              "      <td>962</td>\n",
              "      <td>968</td>\n",
              "      <td>879</td>\n",
              "      <td>1157</td>\n",
              "      <td>2</td>\n",
              "    </tr>\n",
              "    <tr>\n",
              "      <th>top</th>\n",
              "      <td>FORUMS</td>\n",
              "      <td></td>\n",
              "      <td>http://www.quitsmokingmessageboard.com/index.p...</td>\n",
              "      <td>6/15/2016</td>\n",
              "      <td>8:00:00</td>\n",
              "      <td></td>\n",
              "      <td></td>\n",
              "      <td>Posted Today, 04:24 AM he had pneumonia that c...</td>\n",
              "      <td>0</td>\n",
              "    </tr>\n",
              "    <tr>\n",
              "      <th>freq</th>\n",
              "      <td>669</td>\n",
              "      <td>59</td>\n",
              "      <td>2</td>\n",
              "      <td>69</td>\n",
              "      <td>28</td>\n",
              "      <td>161</td>\n",
              "      <td>216</td>\n",
              "      <td>1</td>\n",
              "      <td>917</td>\n",
              "    </tr>\n",
              "  </tbody>\n",
              "</table>\n",
              "</div>"
            ],
            "text/plain": [
              "        Source  ... Patient_Tag\n",
              "count     1157  ...        1157\n",
              "unique       5  ...           2\n",
              "top     FORUMS  ...           0\n",
              "freq       669  ...         917\n",
              "\n",
              "[4 rows x 9 columns]"
            ]
          },
          "metadata": {
            "tags": []
          },
          "execution_count": 28
        }
      ]
    },
    {
      "cell_type": "code",
      "metadata": {
        "id": "DZPXy4uWMgMD",
        "colab_type": "code",
        "colab": {
          "base_uri": "https://localhost:8080/",
          "height": 123
        },
        "outputId": "a52c93aa-56ed-47bb-bced-c2766e6d1fec"
      },
      "source": [
        "#target dataframe\n",
        "y = data.iloc[:,-1]\n",
        "y.head()"
      ],
      "execution_count": 29,
      "outputs": [
        {
          "output_type": "execute_result",
          "data": {
            "text/plain": [
              "0    0\n",
              "1    1\n",
              "2    0\n",
              "3    1\n",
              "4    0\n",
              "Name: Patient_Tag, dtype: object"
            ]
          },
          "metadata": {
            "tags": []
          },
          "execution_count": 29
        }
      ]
    },
    {
      "cell_type": "code",
      "metadata": {
        "id": "t8_-MwdtMgMH",
        "colab_type": "code",
        "colab": {
          "base_uri": "https://localhost:8080/",
          "height": 70
        },
        "outputId": "b06fdd06-8b79-4516-dbd6-66cdd067802a"
      },
      "source": [
        "#checking for imbalanced dataset\n",
        "n_patients = y.value_counts()\n",
        "n_patients"
      ],
      "execution_count": 30,
      "outputs": [
        {
          "output_type": "execute_result",
          "data": {
            "text/plain": [
              "0    917\n",
              "1    240\n",
              "Name: Patient_Tag, dtype: int64"
            ]
          },
          "metadata": {
            "tags": []
          },
          "execution_count": 30
        }
      ]
    },
    {
      "cell_type": "code",
      "metadata": {
        "id": "Qg7VELOVMgML",
        "colab_type": "code",
        "colab": {}
      },
      "source": [
        "#data cleaning and preprocessing\n",
        "def data_clean(column_name):\n",
        "    \n",
        "    corpus= []\n",
        "    for i in range(len(column_name)):\n",
        "        review = re.sub('[^a-zA-Z]', ' ',column_name[i])\n",
        "        review = review.split()\n",
        "        review = [ps.stem(words) for words in review if not words in set(stopwords.words('english'))]\n",
        "        review = ' '.join(review)\n",
        "        corpus.append(review)\n",
        "    return corpus\n",
        "    "
      ],
      "execution_count": 31,
      "outputs": []
    },
    {
      "cell_type": "code",
      "metadata": {
        "id": "Mozv7XxuMgMO",
        "colab_type": "code",
        "colab": {
          "base_uri": "https://localhost:8080/",
          "height": 124
        },
        "outputId": "7e0edb1d-970d-4ecc-84cd-5e06289aab9b"
      },
      "source": [
        "#data preprocessing for training conversation text\n",
        "corpus_text= data_clean(data.TRANS_CONV_TEXT)\n",
        "corpus_text[0]"
      ],
      "execution_count": 32,
      "outputs": [
        {
          "output_type": "execute_result",
          "data": {
            "application/vnd.google.colaboratory.intrinsic": {
              "type": "string"
            },
            "text/plain": [
              "'I disagre principl I say entresto major failur novarti commerci organis they novarti total expos Q call with reimburs issu resolv true underli problem entresto unveil novarti fail creat demand drug their diseas awar campaign US drown man incred poor fear panic induc what advertis wrong condit they rais awar life threaten acut heart failur instead chronic heart failur entresto indic entresto noth treatment acut heart failur If due shock lack knowledg diseas area explain consciou mislead patient they manag alien medic commun advocaci group top kol includ princip investig entresto trial publicli express concern It unheard but provid clue actual happen An incompet strateg market team establish wrong go market model base wrong market assumpt and persist kept go wrong direct complet oblivi extent incompet It typic exampl ignor bia ignor frequent beget confid knowledg If analyst challeng novarti public know long would continu denial It stun novarti lead cardiovascular compani bomb launch cardiovascular primari care product combo diovan with discov new low david let peopl He trust known better hi hand manag style work novarti pharma contrast oncolog It toxic cultur popul ye peopl compet skill valu requir promot It strang though mani year oper posit joerg seemingli stay uninvolv At least look outsid'"
            ]
          },
          "metadata": {
            "tags": []
          },
          "execution_count": 32
        }
      ]
    },
    {
      "cell_type": "code",
      "metadata": {
        "id": "xke5CDifMgMS",
        "colab_type": "code",
        "colab": {
          "base_uri": "https://localhost:8080/",
          "height": 106
        },
        "outputId": "41b3bce3-5ebf-4340-907e-de7639b7639c"
      },
      "source": [
        "#data preprocessing for test conversation text\n",
        "\n",
        "corpus_text_test= data_clean(test_data.TRANS_CONV_TEXT)\n",
        "corpus_text_test[0]"
      ],
      "execution_count": 33,
      "outputs": [
        {
          "output_type": "execute_result",
          "data": {
            "application/vnd.google.colaboratory.intrinsic": {
              "type": "string"
            },
            "text/plain": [
              "'babi slice son late kimbo slice sign profession mma contract make debut bellat august accord associ press report kevin ferguson Jr oldest son kevin ferguson alreadi experi amateur mix martial art He made debut march knock oppon second the younger ferguson sign bellat contract father death june I alway around fight busi everyth I saw I understood go ferguson said I knew without doubt one day I want accord ferguson occasion dabbl mma colleg prefer go parti friend It recent up train go pro hi father fought bellat februari defeat dada later organ discov kimbo slice taken ped dada got win kimbo slice die june hospit congest heart failur A larg mass also discov liver He It shock world put like It still big tragedi I got ferguson told AP regard father untim death I still get I say I I work I guess check mma debut video'"
            ]
          },
          "metadata": {
            "tags": []
          },
          "execution_count": 33
        }
      ]
    },
    {
      "cell_type": "code",
      "metadata": {
        "id": "ivPj6KPFMgMa",
        "colab_type": "code",
        "colab": {
          "base_uri": "https://localhost:8080/",
          "height": 105
        },
        "outputId": "e687f225-5d12-4edb-e4d4-4c0ed9eda735"
      },
      "source": [
        "#data preprocessing for training title column\n",
        "\n",
        "corpus_title= data_clean(data.Title)\n",
        "corpus_title[0:5]"
      ],
      "execution_count": 34,
      "outputs": [
        {
          "output_type": "execute_result",
          "data": {
            "text/plain": [
              "['epstein',\n",
              " 'enlarg heart thread enlarg heart',\n",
              " 'queen latifah join american heart associ red step campaign',\n",
              " 'bulaemia',\n",
              " 'diy silver interconnect rca']"
            ]
          },
          "metadata": {
            "tags": []
          },
          "execution_count": 34
        }
      ]
    },
    {
      "cell_type": "code",
      "metadata": {
        "id": "QjSASkjGMgMe",
        "colab_type": "code",
        "colab": {
          "base_uri": "https://localhost:8080/",
          "height": 105
        },
        "outputId": "6488aa6a-0ae9-48e2-cd83-fc7519112b39"
      },
      "source": [
        "#data preprocessing for test title column\n",
        "\n",
        "corpus_title_test= data_clean(test_data.Title)\n",
        "corpus_title_test[0:5]"
      ],
      "execution_count": 35,
      "outputs": [
        {
          "output_type": "execute_result",
          "data": {
            "text/plain": [
              "['',\n",
              " 'My stori',\n",
              " 'US fda canagliflozin dapagliflozin',\n",
              " '',\n",
              " 'vitamin D improv heart function studi find']"
            ]
          },
          "metadata": {
            "tags": []
          },
          "execution_count": 35
        }
      ]
    },
    {
      "cell_type": "code",
      "metadata": {
        "id": "FU2SfS9wMgMj",
        "colab_type": "code",
        "colab": {
          "base_uri": "https://localhost:8080/",
          "height": 125
        },
        "outputId": "573071b0-9d02-4319-a5da-850958b4dcd4"
      },
      "source": [
        "#data preprocessing for training link column\n",
        "\n",
        "corpus_link = data_clean(data.Link)\n",
        "corpus_link[0:5]"
      ],
      "execution_count": 36,
      "outputs": [
        {
          "output_type": "execute_result",
          "data": {
            "text/plain": [
              "['http cafepharma com board thread epstein post',\n",
              " 'http www patient co uk forum discuss enlarg heart order latest',\n",
              " 'http abcnewsradioonlin com entertain news queen latifah join american heart associ red step ca html utm sourc feedburn utm medium feed utm campaign feed A abcnewsradio fentertainmentnew abc new radio entertain new',\n",
              " 'http www cancer forum net viewtop php f',\n",
              " 'http www diyaudio com forum loung diy silver interconnect rca html post']"
            ]
          },
          "metadata": {
            "tags": []
          },
          "execution_count": 36
        }
      ]
    },
    {
      "cell_type": "code",
      "metadata": {
        "id": "wBMqbXRdMgMo",
        "colab_type": "code",
        "colab": {
          "base_uri": "https://localhost:8080/",
          "height": 105
        },
        "outputId": "0d460280-c063-4279-bc57-50a845e854bd"
      },
      "source": [
        "#data preprocessing for test link column\n",
        "\n",
        "corpus_link_test = data_clean(test_data.Link)\n",
        "corpus_link_test[0:5]"
      ],
      "execution_count": 37,
      "outputs": [
        {
          "output_type": "execute_result",
          "data": {
            "text/plain": [
              "['http uhmagonlin com son late kimbo slice babi slice fight bellat',\n",
              " 'http implantinformationnetwork yuku com topic My stori',\n",
              " 'http cestlapharm blogspot com us fda canagliflozin dapagliflozin html',\n",
              " 'http www healthboard com board heart disord congest heart failur html post',\n",
              " 'http www sciencecodex com vitamin improv heart function studi find']"
            ]
          },
          "metadata": {
            "tags": []
          },
          "execution_count": 37
        }
      ]
    },
    {
      "cell_type": "code",
      "metadata": {
        "id": "rkuqJ_KuMgMu",
        "colab_type": "code",
        "colab": {
          "base_uri": "https://localhost:8080/",
          "height": 34
        },
        "outputId": "95b0cf28-f5a7-44ba-e859-299dad8bfce1"
      },
      "source": [
        "#Countvectorization(bag of words) for training conversation text corpus\n",
        "cv_text = CountVectorizer(min_df=3)\n",
        "X_text = cv_text.fit_transform(corpus_text).toarray()\n",
        "X_text.shape"
      ],
      "execution_count": 38,
      "outputs": [
        {
          "output_type": "execute_result",
          "data": {
            "text/plain": [
              "(1157, 5440)"
            ]
          },
          "metadata": {
            "tags": []
          },
          "execution_count": 38
        }
      ]
    },
    {
      "cell_type": "code",
      "metadata": {
        "id": "aXz_RIz-MgM1",
        "colab_type": "code",
        "colab": {
          "base_uri": "https://localhost:8080/",
          "height": 34
        },
        "outputId": "f708e0d6-44e7-419e-9957-3ebca8816b49"
      },
      "source": [
        "#Countvectorization(bag of words) for test conversation text corpus\n",
        "\n",
        "X_text_test =cv_text.transform(corpus_text_test).toarray()\n",
        "X_text_test.shape"
      ],
      "execution_count": 39,
      "outputs": [
        {
          "output_type": "execute_result",
          "data": {
            "text/plain": [
              "(571, 5440)"
            ]
          },
          "metadata": {
            "tags": []
          },
          "execution_count": 39
        }
      ]
    },
    {
      "cell_type": "code",
      "metadata": {
        "id": "-BydJ6XBMgM6",
        "colab_type": "code",
        "colab": {
          "base_uri": "https://localhost:8080/",
          "height": 34
        },
        "outputId": "22d68ee4-df4f-4ded-88c6-729b7b3e4ce8"
      },
      "source": [
        "#Countvectorization(bag of words) for training title corpus\n",
        "\n",
        "cv_title = CountVectorizer(min_df=2)\n",
        "X_title = cv_title.fit_transform(corpus_title).toarray()\n",
        "X_title.shape"
      ],
      "execution_count": 40,
      "outputs": [
        {
          "output_type": "execute_result",
          "data": {
            "text/plain": [
              "(1157, 877)"
            ]
          },
          "metadata": {
            "tags": []
          },
          "execution_count": 40
        }
      ]
    },
    {
      "cell_type": "code",
      "metadata": {
        "id": "5YsqZkG4MgM-",
        "colab_type": "code",
        "colab": {
          "base_uri": "https://localhost:8080/",
          "height": 34
        },
        "outputId": "9c62dded-d416-4a2a-995b-aabe1af2fef3"
      },
      "source": [
        "#Countvectorization(bag of words) for test title corpus\n",
        "\n",
        "X_title_test =cv_title.transform(corpus_title_test).toarray()\n",
        "X_title_test.shape"
      ],
      "execution_count": 41,
      "outputs": [
        {
          "output_type": "execute_result",
          "data": {
            "text/plain": [
              "(571, 877)"
            ]
          },
          "metadata": {
            "tags": []
          },
          "execution_count": 41
        }
      ]
    },
    {
      "cell_type": "code",
      "metadata": {
        "scrolled": true,
        "id": "SOACdd14MgNC",
        "colab_type": "code",
        "colab": {
          "base_uri": "https://localhost:8080/",
          "height": 34
        },
        "outputId": "e7b2c280-b2e1-483d-b60e-083cecb023e9"
      },
      "source": [
        "#Countvectorization(bag of words) for training link corpus\n",
        "\n",
        "cv_link = CountVectorizer(min_df=2)\n",
        "X_link = cv_link.fit_transform(corpus_link).toarray()\n",
        "X_link.shape"
      ],
      "execution_count": 42,
      "outputs": [
        {
          "output_type": "execute_result",
          "data": {
            "text/plain": [
              "(1157, 954)"
            ]
          },
          "metadata": {
            "tags": []
          },
          "execution_count": 42
        }
      ]
    },
    {
      "cell_type": "code",
      "metadata": {
        "id": "kRZZfWpxMgNF",
        "colab_type": "code",
        "colab": {
          "base_uri": "https://localhost:8080/",
          "height": 34
        },
        "outputId": "284be225-87d5-4c26-f8d3-8dea07d54cf1"
      },
      "source": [
        "#Countvectorization(bag of words) for test link corpus\n",
        "\n",
        "X_link_test =cv_link.transform(corpus_link_test).toarray()\n",
        "X_link_test.shape"
      ],
      "execution_count": 43,
      "outputs": [
        {
          "output_type": "execute_result",
          "data": {
            "text/plain": [
              "(571, 954)"
            ]
          },
          "metadata": {
            "tags": []
          },
          "execution_count": 43
        }
      ]
    },
    {
      "cell_type": "code",
      "metadata": {
        "id": "se80MvhbMgNI",
        "colab_type": "code",
        "colab": {}
      },
      "source": [
        "#dummy variables for training source column \n",
        "X_4 =pd.get_dummies(data.Source, drop_first=True)\n",
        "X_4['FaceBook'] = X_4['Facebook']+X_4['FACEBOOK']\n",
        "X_4 = X_4[['FORUMS', 'YOUTUBE','FaceBook']]\n",
        "X_source = np.array(X_4)"
      ],
      "execution_count": 44,
      "outputs": []
    },
    {
      "cell_type": "code",
      "metadata": {
        "id": "yrugKGBaMgNN",
        "colab_type": "code",
        "colab": {}
      },
      "source": [
        "#dummy variables for test source column \n",
        "X_4_test =pd.get_dummies(test_data.Source, drop_first=True)\n",
        "X_4_test['FaceBook'] = X_4_test['Facebook']+X_4_test['FACEBOOK']\n",
        "X_4_test = X_4_test[['FORUMS', 'YOUTUBE','FaceBook']]\n",
        "X_source_test = np.array(X_4_test)"
      ],
      "execution_count": 45,
      "outputs": []
    },
    {
      "cell_type": "code",
      "metadata": {
        "id": "CrWIZ8iBMgNU",
        "colab_type": "code",
        "colab": {
          "base_uri": "https://localhost:8080/",
          "height": 34
        },
        "outputId": "3b91f0f8-cac7-47c4-de00-8b4e726c5918"
      },
      "source": [
        "#training input matrix\n",
        "X = np.concatenate((X_source,X_link,X_title,X_text), axis=1)\n",
        "X.shape"
      ],
      "execution_count": 46,
      "outputs": [
        {
          "output_type": "execute_result",
          "data": {
            "text/plain": [
              "(1157, 7274)"
            ]
          },
          "metadata": {
            "tags": []
          },
          "execution_count": 46
        }
      ]
    },
    {
      "cell_type": "code",
      "metadata": {
        "id": "4zseNxFNMgNb",
        "colab_type": "code",
        "colab": {
          "base_uri": "https://localhost:8080/",
          "height": 34
        },
        "outputId": "0f49b8fb-88ea-4cab-a9e7-209e0768d080"
      },
      "source": [
        "#training input matrix\n",
        "X_test1 = np.concatenate((X_source_test, X_link_test, X_title_test, X_text_test), axis=1)\n",
        "X_test1.shape"
      ],
      "execution_count": 47,
      "outputs": [
        {
          "output_type": "execute_result",
          "data": {
            "text/plain": [
              "(571, 7274)"
            ]
          },
          "metadata": {
            "tags": []
          },
          "execution_count": 47
        }
      ]
    },
    {
      "cell_type": "code",
      "metadata": {
        "id": "VvXNUD3QMgNj",
        "colab_type": "code",
        "colab": {}
      },
      "source": [
        "#converting target column to int form\n",
        "y = pd.to_numeric(y)"
      ],
      "execution_count": 48,
      "outputs": []
    },
    {
      "cell_type": "code",
      "metadata": {
        "id": "AnMiSsn_MgNp",
        "colab_type": "code",
        "colab": {}
      },
      "source": [
        "#from sklearn.model_selection import train_test_split\n",
        "#X_train, X_test, y_train, y_test = train_test_split(X, y, test_size=0.20)"
      ],
      "execution_count": null,
      "outputs": []
    },
    {
      "cell_type": "code",
      "metadata": {
        "id": "EUkBRHSEMgNv",
        "colab_type": "code",
        "colab": {
          "base_uri": "https://localhost:8080/",
          "height": 338
        },
        "outputId": "37f60e82-8781-40a3-d058-e3c167f4c5b4"
      },
      "source": [
        "#oversampling technique to handle imbalanced dataset\n",
        "from imblearn.over_sampling import SMOTE\n",
        "method = SMOTE(kind='svm')\n",
        "X_resampled, y_resampled = method.fit_sample(X, y)\n",
        "X_resampled.shape"
      ],
      "execution_count": 49,
      "outputs": [
        {
          "output_type": "stream",
          "text": [
            "/usr/local/lib/python3.6/dist-packages/sklearn/externals/six.py:31: FutureWarning: The module is deprecated in version 0.21 and will be removed in version 0.23 since we've dropped support for Python 2.7. Please rely on the official version of six (https://pypi.org/project/six/).\n",
            "  \"(https://pypi.org/project/six/).\", FutureWarning)\n",
            "/usr/local/lib/python3.6/dist-packages/sklearn/utils/deprecation.py:144: FutureWarning: The sklearn.neighbors.base module is  deprecated in version 0.22 and will be removed in version 0.24. The corresponding classes / functions should instead be imported from sklearn.neighbors. Anything that cannot be imported from sklearn.neighbors is now part of the private API.\n",
            "  warnings.warn(message, FutureWarning)\n",
            "/usr/local/lib/python3.6/dist-packages/sklearn/utils/deprecation.py:87: FutureWarning: Function safe_indexing is deprecated; safe_indexing is deprecated in version 0.22 and will be removed in version 0.24.\n",
            "  warnings.warn(msg, category=FutureWarning)\n",
            "/usr/local/lib/python3.6/dist-packages/sklearn/utils/deprecation.py:87: FutureWarning: Function safe_indexing is deprecated; safe_indexing is deprecated in version 0.22 and will be removed in version 0.24.\n",
            "  warnings.warn(msg, category=FutureWarning)\n",
            "/usr/local/lib/python3.6/dist-packages/sklearn/utils/deprecation.py:87: FutureWarning: Function safe_indexing is deprecated; safe_indexing is deprecated in version 0.22 and will be removed in version 0.24.\n",
            "  warnings.warn(msg, category=FutureWarning)\n",
            "/usr/local/lib/python3.6/dist-packages/sklearn/utils/deprecation.py:87: FutureWarning: Function safe_indexing is deprecated; safe_indexing is deprecated in version 0.22 and will be removed in version 0.24.\n",
            "  warnings.warn(msg, category=FutureWarning)\n",
            "/usr/local/lib/python3.6/dist-packages/sklearn/utils/deprecation.py:87: FutureWarning: Function safe_indexing is deprecated; safe_indexing is deprecated in version 0.22 and will be removed in version 0.24.\n",
            "  warnings.warn(msg, category=FutureWarning)\n",
            "/usr/local/lib/python3.6/dist-packages/sklearn/utils/deprecation.py:87: FutureWarning: Function safe_indexing is deprecated; safe_indexing is deprecated in version 0.22 and will be removed in version 0.24.\n",
            "  warnings.warn(msg, category=FutureWarning)\n"
          ],
          "name": "stderr"
        },
        {
          "output_type": "execute_result",
          "data": {
            "text/plain": [
              "(1834, 7274)"
            ]
          },
          "metadata": {
            "tags": []
          },
          "execution_count": 49
        }
      ]
    },
    {
      "cell_type": "code",
      "metadata": {
        "id": "EWif89UuMgNy",
        "colab_type": "code",
        "colab": {
          "base_uri": "https://localhost:8080/",
          "height": 34
        },
        "outputId": "327074e5-0126-4b3d-e1dd-8d19360edd15"
      },
      "source": [
        "#Natural accuracy of model without oversampling\n",
        "917/1157"
      ],
      "execution_count": 50,
      "outputs": [
        {
          "output_type": "execute_result",
          "data": {
            "text/plain": [
              "0.7925669835782195"
            ]
          },
          "metadata": {
            "tags": []
          },
          "execution_count": 50
        }
      ]
    },
    {
      "cell_type": "code",
      "metadata": {
        "id": "jr0eb7jiMgN5",
        "colab_type": "code",
        "colab": {}
      },
      "source": [
        "#first machine model, random forest classifier, best parameters using gridsearchcv\n",
        "from sklearn.ensemble import RandomForestClassifier\n",
        "classifier_1 = RandomForestClassifier(n_estimators=500, criterion='entropy', bootstrap=True, max_depth=100, max_features=6, \n",
        "                                      min_samples_leaf=1, min_samples_split=2)"
      ],
      "execution_count": 51,
      "outputs": []
    },
    {
      "cell_type": "code",
      "metadata": {
        "id": "YqHshbnSMgN-",
        "colab_type": "code",
        "colab": {
          "base_uri": "https://localhost:8080/",
          "height": 34
        },
        "outputId": "8150b429-d9f8-450e-c4dd-2eaeaae97b6a"
      },
      "source": [
        "#cross-validation for random forest classifier\n",
        "accuracies = cross_val_score(estimator = classifier_1, X = X_resampled, y = y_resampled, cv = 10)\n",
        "accuracies.mean()"
      ],
      "execution_count": 52,
      "outputs": [
        {
          "output_type": "execute_result",
          "data": {
            "text/plain": [
              "0.8931634592539796"
            ]
          },
          "metadata": {
            "tags": []
          },
          "execution_count": 52
        }
      ]
    },
    {
      "cell_type": "code",
      "metadata": {
        "id": "OERAv-4WMgOF",
        "colab_type": "code",
        "colab": {}
      },
      "source": [
        ""
      ],
      "execution_count": null,
      "outputs": []
    },
    {
      "cell_type": "code",
      "metadata": {
        "id": "vEFwUCjkMgOJ",
        "colab_type": "code",
        "colab": {
          "base_uri": "https://localhost:8080/",
          "height": 105
        },
        "outputId": "78407ae2-eb93-4f4f-ba52-4316a3376923"
      },
      "source": [
        "#second machine learning model, logistic regression classifier, best parameters using gridsearchcv\n",
        "from sklearn.linear_model import LogisticRegression\n",
        "classifier_2 = LogisticRegression(penalty='l2', C=0.07, max_iter=100, solver='liblinear')\n",
        "classifier_2.fit(X_resampled, y_resampled)"
      ],
      "execution_count": 53,
      "outputs": [
        {
          "output_type": "execute_result",
          "data": {
            "text/plain": [
              "LogisticRegression(C=0.07, class_weight=None, dual=False, fit_intercept=True,\n",
              "                   intercept_scaling=1, l1_ratio=None, max_iter=100,\n",
              "                   multi_class='auto', n_jobs=None, penalty='l2',\n",
              "                   random_state=None, solver='liblinear', tol=0.0001, verbose=0,\n",
              "                   warm_start=False)"
            ]
          },
          "metadata": {
            "tags": []
          },
          "execution_count": 53
        }
      ]
    },
    {
      "cell_type": "code",
      "metadata": {
        "id": "nnPILnthMgOM",
        "colab_type": "code",
        "colab": {
          "base_uri": "https://localhost:8080/",
          "height": 34
        },
        "outputId": "c302bf17-a00e-44ec-9f3a-2d4ea4342041"
      },
      "source": [
        "#cross-validation for logistic regression classifier\n",
        "accuracies = cross_val_score(estimator = classifier_2, X = X_resampled, y = y_resampled, cv = 10)\n",
        "accuracies.mean()"
      ],
      "execution_count": 54,
      "outputs": [
        {
          "output_type": "execute_result",
          "data": {
            "text/plain": [
              "0.9275273224043715"
            ]
          },
          "metadata": {
            "tags": []
          },
          "execution_count": 54
        }
      ]
    },
    {
      "cell_type": "code",
      "metadata": {
        "id": "CwlAKmnrMgOP",
        "colab_type": "code",
        "colab": {}
      },
      "source": [
        ""
      ],
      "execution_count": null,
      "outputs": []
    },
    {
      "cell_type": "code",
      "metadata": {
        "id": "9skKNt3IMgOU",
        "colab_type": "code",
        "colab": {
          "base_uri": "https://localhost:8080/",
          "height": 141
        },
        "outputId": "8a120900-7e69-42a1-e346-8fa1b2fdf0ea"
      },
      "source": [
        "#Third machine learning model, XGB Classifier, best parameters using gridsearchcv\n",
        "classifier_3 = XGBClassifier(learning_rate =0.08, n_estimators=140, max_depth=6,\n",
        " min_child_weight=1, gamma=0, subsample=0.9, colsample_bytree=0.7, reg_alpha=0.1,\n",
        " objective= 'binary:logistic', nthread=4, scale_pos_weight=1, seed=27)\n",
        "classifier_3.fit(X_resampled, y_resampled)"
      ],
      "execution_count": 55,
      "outputs": [
        {
          "output_type": "execute_result",
          "data": {
            "text/plain": [
              "XGBClassifier(base_score=0.5, booster='gbtree', colsample_bylevel=1,\n",
              "              colsample_bynode=1, colsample_bytree=0.7, gamma=0,\n",
              "              learning_rate=0.08, max_delta_step=0, max_depth=6,\n",
              "              min_child_weight=1, missing=None, n_estimators=140, n_jobs=1,\n",
              "              nthread=4, objective='binary:logistic', random_state=0,\n",
              "              reg_alpha=0.1, reg_lambda=1, scale_pos_weight=1, seed=27,\n",
              "              silent=None, subsample=0.9, verbosity=1)"
            ]
          },
          "metadata": {
            "tags": []
          },
          "execution_count": 55
        }
      ]
    },
    {
      "cell_type": "code",
      "metadata": {
        "scrolled": true,
        "id": "mX1slprjMgOY",
        "colab_type": "code",
        "colab": {
          "base_uri": "https://localhost:8080/",
          "height": 34
        },
        "outputId": "c89fa5be-bee2-4738-a278-72bd2f0443f5"
      },
      "source": [
        "#cross-validation for XGB Classifier\n",
        "accuracies = cross_val_score(estimator = classifier_3, X = X_resampled, y = y_resampled, cv = 10)\n",
        "accuracies.mean()"
      ],
      "execution_count": 56,
      "outputs": [
        {
          "output_type": "execute_result",
          "data": {
            "text/plain": [
              "0.9188079116179614"
            ]
          },
          "metadata": {
            "tags": []
          },
          "execution_count": 56
        }
      ]
    },
    {
      "cell_type": "code",
      "metadata": {
        "id": "WCmfPvRTMgOf",
        "colab_type": "code",
        "colab": {}
      },
      "source": [
        ""
      ],
      "execution_count": null,
      "outputs": []
    },
    {
      "cell_type": "code",
      "metadata": {
        "id": "WSBynz_NMgOm",
        "colab_type": "code",
        "colab": {}
      },
      "source": [
        "#creating ensemble model, voting classifier, for better prediction\n",
        "from sklearn.ensemble import VotingClassifier\n",
        "ensemble_model = VotingClassifier(estimators=[ \n",
        "                                              ('rf', classifier_1), ('lr', classifier_2), ('xgb', classifier_3)], \n",
        "                                  voting='soft', weights=[1, 2, 3], flatten_transform=True)"
      ],
      "execution_count": 57,
      "outputs": []
    },
    {
      "cell_type": "code",
      "metadata": {
        "id": "b4hUY3-wMgOu",
        "colab_type": "code",
        "colab": {
          "base_uri": "https://localhost:8080/",
          "height": 567
        },
        "outputId": "b994f78d-4fc3-48ef-a86c-5a7dc418078a"
      },
      "source": [
        "ensemble_model.fit(X_resampled, y_resampled)"
      ],
      "execution_count": 58,
      "outputs": [
        {
          "output_type": "execute_result",
          "data": {
            "text/plain": [
              "VotingClassifier(estimators=[('rf',\n",
              "                              RandomForestClassifier(bootstrap=True,\n",
              "                                                     ccp_alpha=0.0,\n",
              "                                                     class_weight=None,\n",
              "                                                     criterion='entropy',\n",
              "                                                     max_depth=100,\n",
              "                                                     max_features=6,\n",
              "                                                     max_leaf_nodes=None,\n",
              "                                                     max_samples=None,\n",
              "                                                     min_impurity_decrease=0.0,\n",
              "                                                     min_impurity_split=None,\n",
              "                                                     min_samples_leaf=1,\n",
              "                                                     min_samples_split=2,\n",
              "                                                     min_weight_fraction_leaf=0.0,\n",
              "                                                     n_estimators=500,\n",
              "                                                     n_jobs=None,\n",
              "                                                     oob_score=Fa...\n",
              "                                            colsample_bynode=1,\n",
              "                                            colsample_bytree=0.7, gamma=0,\n",
              "                                            learning_rate=0.08,\n",
              "                                            max_delta_step=0, max_depth=6,\n",
              "                                            min_child_weight=1, missing=None,\n",
              "                                            n_estimators=140, n_jobs=1,\n",
              "                                            nthread=4,\n",
              "                                            objective='binary:logistic',\n",
              "                                            random_state=0, reg_alpha=0.1,\n",
              "                                            reg_lambda=1, scale_pos_weight=1,\n",
              "                                            seed=27, silent=None, subsample=0.9,\n",
              "                                            verbosity=1))],\n",
              "                 flatten_transform=True, n_jobs=None, voting='soft',\n",
              "                 weights=[1, 2, 3])"
            ]
          },
          "metadata": {
            "tags": []
          },
          "execution_count": 58
        }
      ]
    },
    {
      "cell_type": "code",
      "metadata": {
        "id": "UImO709cMgO0",
        "colab_type": "code",
        "colab": {
          "base_uri": "https://localhost:8080/",
          "height": 34
        },
        "outputId": "86c3f2d7-d15d-44f5-e44f-7aafd7a0e458"
      },
      "source": [
        "#cross-validation for voting classifier\n",
        "accuracies = cross_val_score(estimator = ensemble_model, X = X_resampled, y = y_resampled, cv = 10)\n",
        "accuracies.mean()"
      ],
      "execution_count": 59,
      "outputs": [
        {
          "output_type": "execute_result",
          "data": {
            "text/plain": [
              "0.9324305060584462"
            ]
          },
          "metadata": {
            "tags": []
          },
          "execution_count": 59
        }
      ]
    },
    {
      "cell_type": "code",
      "metadata": {
        "id": "timppXsJMgO6",
        "colab_type": "code",
        "colab": {},
        "outputId": "2ef13b31-8f47-4fc4-ee7f-00c30a1cc95c"
      },
      "source": [
        "#Predictions for test data\n",
        "y_pred1 = ensemble_model.predict(X_test1)\n",
        "test_data_results = pd.DataFrame(y_pred1, columns=['Patient_Tag'], index=test_data.Index)\n",
        "test_data_results.head()"
      ],
      "execution_count": null,
      "outputs": [
        {
          "output_type": "stream",
          "text": [
            "C:\\Users\\sr4rish\\Anaconda3\\lib\\site-packages\\sklearn\\preprocessing\\label.py:151: DeprecationWarning: The truth value of an empty array is ambiguous. Returning False, but in future this will result in an error. Use `array.size > 0` to check that an array is not empty.\n",
            "  if diff:\n"
          ],
          "name": "stderr"
        },
        {
          "output_type": "execute_result",
          "data": {
            "text/html": [
              "<div>\n",
              "<style scoped>\n",
              "    .dataframe tbody tr th:only-of-type {\n",
              "        vertical-align: middle;\n",
              "    }\n",
              "\n",
              "    .dataframe tbody tr th {\n",
              "        vertical-align: top;\n",
              "    }\n",
              "\n",
              "    .dataframe thead th {\n",
              "        text-align: right;\n",
              "    }\n",
              "</style>\n",
              "<table border=\"1\" class=\"dataframe\">\n",
              "  <thead>\n",
              "    <tr style=\"text-align: right;\">\n",
              "      <th></th>\n",
              "      <th>Patient_Tag</th>\n",
              "    </tr>\n",
              "    <tr>\n",
              "      <th>Index</th>\n",
              "      <th></th>\n",
              "    </tr>\n",
              "  </thead>\n",
              "  <tbody>\n",
              "    <tr>\n",
              "      <th>1</th>\n",
              "      <td>0</td>\n",
              "    </tr>\n",
              "    <tr>\n",
              "      <th>2</th>\n",
              "      <td>1</td>\n",
              "    </tr>\n",
              "    <tr>\n",
              "      <th>3</th>\n",
              "      <td>0</td>\n",
              "    </tr>\n",
              "    <tr>\n",
              "      <th>4</th>\n",
              "      <td>1</td>\n",
              "    </tr>\n",
              "    <tr>\n",
              "      <th>5</th>\n",
              "      <td>0</td>\n",
              "    </tr>\n",
              "  </tbody>\n",
              "</table>\n",
              "</div>"
            ],
            "text/plain": [
              "       Patient_Tag\n",
              "Index             \n",
              "1                0\n",
              "2                1\n",
              "3                0\n",
              "4                1\n",
              "5                0"
            ]
          },
          "metadata": {
            "tags": []
          },
          "execution_count": 45
        }
      ]
    },
    {
      "cell_type": "code",
      "metadata": {
        "id": "QxdCqVvkMgO_",
        "colab_type": "code",
        "colab": {}
      },
      "source": [
        "test_data_results.to_csv('submission_file.csv')"
      ],
      "execution_count": null,
      "outputs": []
    },
    {
      "cell_type": "code",
      "metadata": {
        "id": "fCnPoCuxMgPE",
        "colab_type": "code",
        "colab": {}
      },
      "source": [
        ""
      ],
      "execution_count": null,
      "outputs": []
    }
  ]
}